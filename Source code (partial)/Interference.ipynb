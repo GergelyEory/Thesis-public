{
 "cells": [
  {
   "cell_type": "code",
   "execution_count": 1,
   "metadata": {},
   "outputs": [],
   "source": [
    "import numpy as np\n",
    "import scipy\n",
    "import pandas as pd\n",
    "import sklearn\n",
    "import matplotlib.pyplot as plt\n",
    "from mpl_toolkits.mplot3d import Axes3D\n",
    "from matplotlib import cm\n",
    "import cmath"
   ]
  },
  {
   "cell_type": "code",
   "execution_count": 2,
   "metadata": {},
   "outputs": [
    {
     "data": {
      "text/html": [
       "<div>\n",
       "<style scoped>\n",
       "    .dataframe tbody tr th:only-of-type {\n",
       "        vertical-align: middle;\n",
       "    }\n",
       "\n",
       "    .dataframe tbody tr th {\n",
       "        vertical-align: top;\n",
       "    }\n",
       "\n",
       "    .dataframe thead th {\n",
       "        text-align: right;\n",
       "    }\n",
       "</style>\n",
       "<table border=\"1\" class=\"dataframe\">\n",
       "  <thead>\n",
       "    <tr style=\"text-align: right;\">\n",
       "      <th></th>\n",
       "      <th>Ppar</th>\n",
       "      <th>Pper</th>\n",
       "      <th>Are</th>\n",
       "      <th>Aim</th>\n",
       "    </tr>\n",
       "  </thead>\n",
       "  <tbody>\n",
       "    <tr>\n",
       "      <th>0</th>\n",
       "      <td>0.000010</td>\n",
       "      <td>3.141593e-09</td>\n",
       "      <td>6.352095e-06</td>\n",
       "      <td>-1.495780e-05</td>\n",
       "    </tr>\n",
       "    <tr>\n",
       "      <th>1</th>\n",
       "      <td>0.014038</td>\n",
       "      <td>4.410179e-06</td>\n",
       "      <td>5.651429e-06</td>\n",
       "      <td>-1.477674e-05</td>\n",
       "    </tr>\n",
       "    <tr>\n",
       "      <th>2</th>\n",
       "      <td>0.028066</td>\n",
       "      <td>8.817216e-06</td>\n",
       "      <td>4.996306e-06</td>\n",
       "      <td>-1.456411e-05</td>\n",
       "    </tr>\n",
       "    <tr>\n",
       "      <th>3</th>\n",
       "      <td>0.042094</td>\n",
       "      <td>1.322425e-05</td>\n",
       "      <td>4.386197e-06</td>\n",
       "      <td>-1.432439e-05</td>\n",
       "    </tr>\n",
       "    <tr>\n",
       "      <th>4</th>\n",
       "      <td>0.056122</td>\n",
       "      <td>1.763129e-05</td>\n",
       "      <td>3.820287e-06</td>\n",
       "      <td>-1.406172e-05</td>\n",
       "    </tr>\n",
       "    <tr>\n",
       "      <th>...</th>\n",
       "      <td>...</td>\n",
       "      <td>...</td>\n",
       "      <td>...</td>\n",
       "      <td>...</td>\n",
       "    </tr>\n",
       "    <tr>\n",
       "      <th>120495</th>\n",
       "      <td>6.943888</td>\n",
       "      <td>-2.181487e-03</td>\n",
       "      <td>-6.666949e-27</td>\n",
       "      <td>1.039318e-25</td>\n",
       "    </tr>\n",
       "    <tr>\n",
       "      <th>120496</th>\n",
       "      <td>6.957916</td>\n",
       "      <td>-2.185894e-03</td>\n",
       "      <td>-4.828608e-26</td>\n",
       "      <td>7.057723e-26</td>\n",
       "    </tr>\n",
       "    <tr>\n",
       "      <th>120497</th>\n",
       "      <td>6.971944</td>\n",
       "      <td>-2.190301e-03</td>\n",
       "      <td>-6.367585e-26</td>\n",
       "      <td>2.949140e-26</td>\n",
       "    </tr>\n",
       "    <tr>\n",
       "      <th>120498</th>\n",
       "      <td>6.985972</td>\n",
       "      <td>-2.194708e-03</td>\n",
       "      <td>-5.723701e-26</td>\n",
       "      <td>-5.997477e-27</td>\n",
       "    </tr>\n",
       "    <tr>\n",
       "      <th>120499</th>\n",
       "      <td>7.000000</td>\n",
       "      <td>-2.199115e-03</td>\n",
       "      <td>-3.773171e-26</td>\n",
       "      <td>-2.830635e-26</td>\n",
       "    </tr>\n",
       "  </tbody>\n",
       "</table>\n",
       "<p>120500 rows × 4 columns</p>\n",
       "</div>"
      ],
      "text/plain": [
       "            Ppar          Pper           Are           Aim\n",
       "0       0.000010  3.141593e-09  6.352095e-06 -1.495780e-05\n",
       "1       0.014038  4.410179e-06  5.651429e-06 -1.477674e-05\n",
       "2       0.028066  8.817216e-06  4.996306e-06 -1.456411e-05\n",
       "3       0.042094  1.322425e-05  4.386197e-06 -1.432439e-05\n",
       "4       0.056122  1.763129e-05  3.820287e-06 -1.406172e-05\n",
       "...          ...           ...           ...           ...\n",
       "120495  6.943888 -2.181487e-03 -6.666949e-27  1.039318e-25\n",
       "120496  6.957916 -2.185894e-03 -4.828608e-26  7.057723e-26\n",
       "120497  6.971944 -2.190301e-03 -6.367585e-26  2.949140e-26\n",
       "120498  6.985972 -2.194708e-03 -5.723701e-26 -5.997477e-27\n",
       "120499  7.000000 -2.199115e-03 -3.773171e-26 -2.830635e-26\n",
       "\n",
       "[120500 rows x 4 columns]"
      ]
     },
     "execution_count": 2,
     "metadata": {},
     "output_type": "execute_result"
    }
   ],
   "source": [
    "# Import NSDI data\n",
    "inp_e1 = pd.read_csv(\"/home/geory/git/Frankenstein/Frankenstein/Working/Data/Amplitudes/Ar_800nm_1e14W_7Up.inp_Range_241X500_channel:0.outamps\", sep = ' ', dtype = np.float64)\n",
    "entries_e1 = inp_e1.shape[0]\n",
    "inp_e1"
   ]
  },
  {
   "cell_type": "code",
   "execution_count": 3,
   "metadata": {},
   "outputs": [],
   "source": [
    "# Get real and imaginary parts of amplitude, construct total amplitude\n",
    "reals_e1 = np.asarray(inp_e1['Are'].tolist())\n",
    "ims_e1 = np.asarray(inp_e1['Aim'].tolist())\n",
    "\n",
    "# Here the complex exponentiation was alredy done in the C++ code\n",
    "abs_e1 = np.empty_like(reals_e1, dtype = np.complex64)\n",
    "for i in np.arange(abs_e1.size):\n",
    "    abs_e1[i] = np.abs(complex(reals_e1[i], ims_e1[i]))**2"
   ]
  },
  {
   "cell_type": "code",
   "execution_count": 4,
   "metadata": {},
   "outputs": [],
   "source": [
    "# Setup for sample points to interpolate\n",
    "imin = jmin = -4.5\n",
    "imax = jmax = 4.5\n",
    "inum = jnum = 900\n",
    "istep = jstep = (imax-imin)/inum"
   ]
  },
  {
   "cell_type": "code",
   "execution_count": 5,
   "metadata": {},
   "outputs": [],
   "source": [
    "# Data points from NSDI\n",
    "points_e1 = []\n",
    "for i in np.arange(entries_e1):\n",
    "    points_e1.append([inp_e1['Ppar'][i], inp_e1['Pper'][i]])\n",
    "    \n",
    "points_e1 = np.asarray(points_e1)\n",
    "\n",
    "# Sample pints to interpolate\n",
    "targets = []\n",
    "\n",
    "for i in np.arange(inum+1):\n",
    "    for j in np.arange(jnum+1):\n",
    "        targets.append([imin + i*istep, jmin + j*jstep])\n",
    "\n",
    "targets = np.asarray(targets)"
   ]
  },
  {
   "cell_type": "code",
   "execution_count": 6,
   "metadata": {},
   "outputs": [],
   "source": [
    "# Interpolate values at target points, based on the values of NSDI input points\n",
    "# Returns an array of values at the target points\n",
    "interNorms = scipy.interpolate.griddata(points=points_e1, values=abs_e1, xi=targets)\n",
    "\n",
    "# Reconstruct grid with target coordinates and amplitude values\n",
    "amps = np.empty_like(interNorms, dtype = np.ndarray)\n",
    "\n",
    "for i in np.arange((inum+1)*(jnum+1)):\n",
    "    elem = np.append(targets[i].real, interNorms[i].real)\n",
    "    amps[i] = elem\n",
    "\n",
    "# Resolve clusterfuckery between Python lists and NumPy ndarrays (result will be an ndarray)\n",
    "amps = amps.tolist()\n",
    "\n",
    "for i in np.arange(len(amps)):\n",
    "    amps[i] = amps[i].tolist()\n",
    "    \n",
    "amps = np.array(amps)\n",
    "ampsT = np.transpose(amps)"
   ]
  },
  {
   "cell_type": "code",
   "execution_count": 7,
   "metadata": {},
   "outputs": [
    {
     "data": {
      "image/png": "[encoded data removed]",
      "text/plain": [
       "<Figure size 432x288 with 1 Axes>"
      ]
     },
     "metadata": {
      "needs_background": "light"
     },
     "output_type": "display_data"
    }
   ],
   "source": [
    "# Plot amplitudes\n",
    "fig = plt.figure()\n",
    "ax = fig.gca(projection='3d')\n",
    "\n",
    "ax.plot(ampsT[0],ampsT[1],ampsT[2]);\n",
    "plt.xlabel('ppar');\n",
    "plt.ylabel('pper');"
   ]
  },
  {
   "cell_type": "code",
   "execution_count": 8,
   "metadata": {},
   "outputs": [],
   "source": [
    "# Integrate perpendicular momenta\n",
    "pparAmps = []\n",
    "\n",
    "for i in np.arange(inum+1):\n",
    "    temp = 0\n",
    "    for j in np.arange(jnum+1):\n",
    "        temp += amps[i*(inum+1) + j, 2]*jstep\n",
    "    \n",
    "    pparAmps.append([amps[i*(jnum+1),0], temp])\n",
    "\n",
    "pparAmps = np.array(pparAmps)"
   ]
  },
  {
   "cell_type": "code",
   "execution_count": 9,
   "metadata": {},
   "outputs": [
    {
     "data": {
      "image/png": "[encoded data removed]",
      "text/plain": [
       "<Figure size 432x288 with 1 Axes>"
      ]
     },
     "metadata": {
      "needs_background": "light"
     },
     "output_type": "display_data"
    }
   ],
   "source": [
    "plt.plot(np.transpose(pparAmps)[0], np.transpose(pparAmps)[1]);"
   ]
  },
  {
   "cell_type": "markdown",
   "metadata": {},
   "source": [
    "# e2"
   ]
  },
  {
   "cell_type": "code",
   "execution_count": 10,
   "metadata": {},
   "outputs": [
    {
     "data": {
      "text/html": [
       "<div>\n",
       "<style scoped>\n",
       "    .dataframe tbody tr th:only-of-type {\n",
       "        vertical-align: middle;\n",
       "    }\n",
       "\n",
       "    .dataframe tbody tr th {\n",
       "        vertical-align: top;\n",
       "    }\n",
       "\n",
       "    .dataframe thead th {\n",
       "        text-align: right;\n",
       "    }\n",
       "</style>\n",
       "<table border=\"1\" class=\"dataframe\">\n",
       "  <thead>\n",
       "    <tr style=\"text-align: right;\">\n",
       "      <th></th>\n",
       "      <th>Ppar</th>\n",
       "      <th>Pper</th>\n",
       "      <th>Mre</th>\n",
       "      <th>Mim</th>\n",
       "      <th>P</th>\n",
       "      <th>Mprefre</th>\n",
       "      <th>Mprefim</th>\n",
       "      <th>Ppref</th>\n",
       "    </tr>\n",
       "  </thead>\n",
       "  <tbody>\n",
       "    <tr>\n",
       "      <th>0</th>\n",
       "      <td>0.010000</td>\n",
       "      <td>0.000003</td>\n",
       "      <td>0.165315</td>\n",
       "      <td>-0.062437</td>\n",
       "      <td>0.031228</td>\n",
       "      <td>-0.006614</td>\n",
       "      <td>0.165540</td>\n",
       "      <td>0.027447</td>\n",
       "    </tr>\n",
       "    <tr>\n",
       "      <th>1</th>\n",
       "      <td>0.027519</td>\n",
       "      <td>0.000009</td>\n",
       "      <td>-0.001209</td>\n",
       "      <td>0.176338</td>\n",
       "      <td>0.031096</td>\n",
       "      <td>-0.137931</td>\n",
       "      <td>-0.060235</td>\n",
       "      <td>0.022653</td>\n",
       "    </tr>\n",
       "    <tr>\n",
       "      <th>2</th>\n",
       "      <td>0.045038</td>\n",
       "      <td>0.000014</td>\n",
       "      <td>-0.031452</td>\n",
       "      <td>0.172742</td>\n",
       "      <td>0.030829</td>\n",
       "      <td>-0.119319</td>\n",
       "      <td>-0.079803</td>\n",
       "      <td>0.020606</td>\n",
       "    </tr>\n",
       "    <tr>\n",
       "      <th>3</th>\n",
       "      <td>0.062556</td>\n",
       "      <td>0.000020</td>\n",
       "      <td>0.165752</td>\n",
       "      <td>-0.052636</td>\n",
       "      <td>0.030245</td>\n",
       "      <td>-0.014924</td>\n",
       "      <td>0.138771</td>\n",
       "      <td>0.019480</td>\n",
       "    </tr>\n",
       "    <tr>\n",
       "      <th>4</th>\n",
       "      <td>0.080075</td>\n",
       "      <td>0.000025</td>\n",
       "      <td>0.130930</td>\n",
       "      <td>-0.111373</td>\n",
       "      <td>0.029547</td>\n",
       "      <td>0.038481</td>\n",
       "      <td>0.131703</td>\n",
       "      <td>0.018827</td>\n",
       "    </tr>\n",
       "    <tr>\n",
       "      <th>...</th>\n",
       "      <td>...</td>\n",
       "      <td>...</td>\n",
       "      <td>...</td>\n",
       "      <td>...</td>\n",
       "      <td>...</td>\n",
       "      <td>...</td>\n",
       "      <td>...</td>\n",
       "      <td>...</td>\n",
       "    </tr>\n",
       "    <tr>\n",
       "      <th>95995</th>\n",
       "      <td>-0.002177</td>\n",
       "      <td>6.929920</td>\n",
       "      <td>-0.000000</td>\n",
       "      <td>0.000000</td>\n",
       "      <td>0.000000</td>\n",
       "      <td>0.000000</td>\n",
       "      <td>0.000000</td>\n",
       "      <td>0.000000</td>\n",
       "    </tr>\n",
       "    <tr>\n",
       "      <th>95996</th>\n",
       "      <td>-0.002183</td>\n",
       "      <td>6.947440</td>\n",
       "      <td>-0.000000</td>\n",
       "      <td>-0.000000</td>\n",
       "      <td>0.000000</td>\n",
       "      <td>-0.000000</td>\n",
       "      <td>0.000000</td>\n",
       "      <td>0.000000</td>\n",
       "    </tr>\n",
       "    <tr>\n",
       "      <th>95997</th>\n",
       "      <td>-0.002188</td>\n",
       "      <td>6.964960</td>\n",
       "      <td>0.000000</td>\n",
       "      <td>-0.000000</td>\n",
       "      <td>0.000000</td>\n",
       "      <td>0.000000</td>\n",
       "      <td>-0.000000</td>\n",
       "      <td>0.000000</td>\n",
       "    </tr>\n",
       "    <tr>\n",
       "      <th>95998</th>\n",
       "      <td>-0.002194</td>\n",
       "      <td>6.982480</td>\n",
       "      <td>0.000000</td>\n",
       "      <td>-0.000000</td>\n",
       "      <td>0.000000</td>\n",
       "      <td>0.000000</td>\n",
       "      <td>-0.000000</td>\n",
       "      <td>0.000000</td>\n",
       "    </tr>\n",
       "    <tr>\n",
       "      <th>95999</th>\n",
       "      <td>-0.002199</td>\n",
       "      <td>7.000000</td>\n",
       "      <td>0.000000</td>\n",
       "      <td>-0.000000</td>\n",
       "      <td>0.000000</td>\n",
       "      <td>0.000000</td>\n",
       "      <td>-0.000000</td>\n",
       "      <td>0.000000</td>\n",
       "    </tr>\n",
       "  </tbody>\n",
       "</table>\n",
       "<p>96000 rows × 8 columns</p>\n",
       "</div>"
      ],
      "text/plain": [
       "           Ppar      Pper       Mre       Mim         P   Mprefre   Mprefim  \\\n",
       "0      0.010000  0.000003  0.165315 -0.062437  0.031228 -0.006614  0.165540   \n",
       "1      0.027519  0.000009 -0.001209  0.176338  0.031096 -0.137931 -0.060235   \n",
       "2      0.045038  0.000014 -0.031452  0.172742  0.030829 -0.119319 -0.079803   \n",
       "3      0.062556  0.000020  0.165752 -0.052636  0.030245 -0.014924  0.138771   \n",
       "4      0.080075  0.000025  0.130930 -0.111373  0.029547  0.038481  0.131703   \n",
       "...         ...       ...       ...       ...       ...       ...       ...   \n",
       "95995 -0.002177  6.929920 -0.000000  0.000000  0.000000  0.000000  0.000000   \n",
       "95996 -0.002183  6.947440 -0.000000 -0.000000  0.000000 -0.000000  0.000000   \n",
       "95997 -0.002188  6.964960  0.000000 -0.000000  0.000000  0.000000 -0.000000   \n",
       "95998 -0.002194  6.982480  0.000000 -0.000000  0.000000  0.000000 -0.000000   \n",
       "95999 -0.002199  7.000000  0.000000 -0.000000  0.000000  0.000000 -0.000000   \n",
       "\n",
       "          Ppref  \n",
       "0      0.027447  \n",
       "1      0.022653  \n",
       "2      0.020606  \n",
       "3      0.019480  \n",
       "4      0.018827  \n",
       "...         ...  \n",
       "95995  0.000000  \n",
       "95996  0.000000  \n",
       "95997  0.000000  \n",
       "95998  0.000000  \n",
       "95999  0.000000  \n",
       "\n",
       "[96000 rows x 8 columns]"
      ]
     },
     "execution_count": 10,
     "metadata": {},
     "output_type": "execute_result"
    }
   ],
   "source": [
    "# Import Orbit 1 from CQSFA\n",
    "# Mre and Mim contain e^iS in complex form, P = |Mre + Mim|^2\n",
    "e2orb1data = pd.read_csv(\"/home/geory/git/CQOrbit/Working/Data/Amplitudes_Orb1_Cycle1_Ar_052_800_1e14_7au_120X400.dat\", sep = ' ')\n",
    "entries_e2 = e2orb1data.shape[0]\n",
    "e2orb1data"
   ]
  },
  {
   "cell_type": "code",
   "execution_count": 11,
   "metadata": {},
   "outputs": [
    {
     "data": {
      "text/html": [
       "<div>\n",
       "<style scoped>\n",
       "    .dataframe tbody tr th:only-of-type {\n",
       "        vertical-align: middle;\n",
       "    }\n",
       "\n",
       "    .dataframe tbody tr th {\n",
       "        vertical-align: top;\n",
       "    }\n",
       "\n",
       "    .dataframe thead th {\n",
       "        text-align: right;\n",
       "    }\n",
       "</style>\n",
       "<table border=\"1\" class=\"dataframe\">\n",
       "  <thead>\n",
       "    <tr style=\"text-align: right;\">\n",
       "      <th></th>\n",
       "      <th>Ppar</th>\n",
       "      <th>Pper</th>\n",
       "      <th>Mre</th>\n",
       "      <th>Mim</th>\n",
       "      <th>P</th>\n",
       "      <th>Mprefre</th>\n",
       "      <th>Mprefim</th>\n",
       "      <th>Ppref</th>\n",
       "    </tr>\n",
       "  </thead>\n",
       "  <tbody>\n",
       "    <tr>\n",
       "      <th>0</th>\n",
       "      <td>0.010000</td>\n",
       "      <td>0.000003</td>\n",
       "      <td>0.036878</td>\n",
       "      <td>0.170252</td>\n",
       "      <td>0.030346</td>\n",
       "      <td>0.215890</td>\n",
       "      <td>0.040301</td>\n",
       "      <td>0.048232</td>\n",
       "    </tr>\n",
       "    <tr>\n",
       "      <th>1</th>\n",
       "      <td>0.027519</td>\n",
       "      <td>0.000009</td>\n",
       "      <td>-0.130437</td>\n",
       "      <td>0.089029</td>\n",
       "      <td>0.024940</td>\n",
       "      <td>0.082382</td>\n",
       "      <td>0.318020</td>\n",
       "      <td>0.107924</td>\n",
       "    </tr>\n",
       "    <tr>\n",
       "      <th>2</th>\n",
       "      <td>0.045038</td>\n",
       "      <td>0.000014</td>\n",
       "      <td>0.091873</td>\n",
       "      <td>-0.090596</td>\n",
       "      <td>0.016648</td>\n",
       "      <td>-0.077612</td>\n",
       "      <td>-0.112177</td>\n",
       "      <td>0.018607</td>\n",
       "    </tr>\n",
       "    <tr>\n",
       "      <th>3</th>\n",
       "      <td>0.062556</td>\n",
       "      <td>0.000020</td>\n",
       "      <td>0.015883</td>\n",
       "      <td>-0.126924</td>\n",
       "      <td>0.016362</td>\n",
       "      <td>-0.112537</td>\n",
       "      <td>-0.025341</td>\n",
       "      <td>0.013307</td>\n",
       "    </tr>\n",
       "    <tr>\n",
       "      <th>4</th>\n",
       "      <td>0.080075</td>\n",
       "      <td>0.000025</td>\n",
       "      <td>0.078510</td>\n",
       "      <td>-0.103692</td>\n",
       "      <td>0.016916</td>\n",
       "      <td>-0.082740</td>\n",
       "      <td>-0.069439</td>\n",
       "      <td>0.011668</td>\n",
       "    </tr>\n",
       "    <tr>\n",
       "      <th>...</th>\n",
       "      <td>...</td>\n",
       "      <td>...</td>\n",
       "      <td>...</td>\n",
       "      <td>...</td>\n",
       "      <td>...</td>\n",
       "      <td>...</td>\n",
       "      <td>...</td>\n",
       "      <td>...</td>\n",
       "    </tr>\n",
       "    <tr>\n",
       "      <th>95995</th>\n",
       "      <td>-0.002177</td>\n",
       "      <td>6.929920</td>\n",
       "      <td>-0.000000</td>\n",
       "      <td>-0.000000</td>\n",
       "      <td>0.000000</td>\n",
       "      <td>0.000000</td>\n",
       "      <td>-0.000000</td>\n",
       "      <td>0.000000</td>\n",
       "    </tr>\n",
       "    <tr>\n",
       "      <th>95996</th>\n",
       "      <td>-0.002183</td>\n",
       "      <td>6.947440</td>\n",
       "      <td>0.000000</td>\n",
       "      <td>-0.000000</td>\n",
       "      <td>0.000000</td>\n",
       "      <td>0.000000</td>\n",
       "      <td>0.000000</td>\n",
       "      <td>0.000000</td>\n",
       "    </tr>\n",
       "    <tr>\n",
       "      <th>95997</th>\n",
       "      <td>-0.002188</td>\n",
       "      <td>6.964960</td>\n",
       "      <td>0.000000</td>\n",
       "      <td>0.000000</td>\n",
       "      <td>0.000000</td>\n",
       "      <td>0.000000</td>\n",
       "      <td>0.000000</td>\n",
       "      <td>0.000000</td>\n",
       "    </tr>\n",
       "    <tr>\n",
       "      <th>95998</th>\n",
       "      <td>-0.002194</td>\n",
       "      <td>6.982480</td>\n",
       "      <td>-0.000000</td>\n",
       "      <td>0.000000</td>\n",
       "      <td>0.000000</td>\n",
       "      <td>-0.000000</td>\n",
       "      <td>0.000000</td>\n",
       "      <td>0.000000</td>\n",
       "    </tr>\n",
       "    <tr>\n",
       "      <th>95999</th>\n",
       "      <td>-0.002199</td>\n",
       "      <td>7.000000</td>\n",
       "      <td>-0.000000</td>\n",
       "      <td>0.000000</td>\n",
       "      <td>0.000000</td>\n",
       "      <td>-0.000000</td>\n",
       "      <td>0.000000</td>\n",
       "      <td>0.000000</td>\n",
       "    </tr>\n",
       "  </tbody>\n",
       "</table>\n",
       "<p>96000 rows × 8 columns</p>\n",
       "</div>"
      ],
      "text/plain": [
       "           Ppar      Pper       Mre       Mim         P   Mprefre   Mprefim  \\\n",
       "0      0.010000  0.000003  0.036878  0.170252  0.030346  0.215890  0.040301   \n",
       "1      0.027519  0.000009 -0.130437  0.089029  0.024940  0.082382  0.318020   \n",
       "2      0.045038  0.000014  0.091873 -0.090596  0.016648 -0.077612 -0.112177   \n",
       "3      0.062556  0.000020  0.015883 -0.126924  0.016362 -0.112537 -0.025341   \n",
       "4      0.080075  0.000025  0.078510 -0.103692  0.016916 -0.082740 -0.069439   \n",
       "...         ...       ...       ...       ...       ...       ...       ...   \n",
       "95995 -0.002177  6.929920 -0.000000 -0.000000  0.000000  0.000000 -0.000000   \n",
       "95996 -0.002183  6.947440  0.000000 -0.000000  0.000000  0.000000  0.000000   \n",
       "95997 -0.002188  6.964960  0.000000  0.000000  0.000000  0.000000  0.000000   \n",
       "95998 -0.002194  6.982480 -0.000000  0.000000  0.000000 -0.000000  0.000000   \n",
       "95999 -0.002199  7.000000 -0.000000  0.000000  0.000000 -0.000000  0.000000   \n",
       "\n",
       "          Ppref  \n",
       "0      0.048232  \n",
       "1      0.107924  \n",
       "2      0.018607  \n",
       "3      0.013307  \n",
       "4      0.011668  \n",
       "...         ...  \n",
       "95995  0.000000  \n",
       "95996  0.000000  \n",
       "95997  0.000000  \n",
       "95998  0.000000  \n",
       "95999  0.000000  \n",
       "\n",
       "[96000 rows x 8 columns]"
      ]
     },
     "execution_count": 11,
     "metadata": {},
     "output_type": "execute_result"
    }
   ],
   "source": [
    "# Import Orbit 2 from CQSFA\n",
    "e2orb2data = pd.read_csv(\"/home/geory/git/CQOrbit/Working/Data/Amplitudes_Orb2_Cycle1_Ar_052_800_1e14_7au_120X400.dat\", sep = ' ')\n",
    "e2orb2data"
   ]
  },
  {
   "cell_type": "code",
   "execution_count": 12,
   "metadata": {},
   "outputs": [],
   "source": [
    "#CQSFA grid is not symmetric, only has one half of of ppar points\n",
    "\n",
    "parmin = -4.5\n",
    "parmax = 4.5\n",
    "parnum = 450\n",
    "\n",
    "permin = 0.04\n",
    "permax = 4.5\n",
    "pernum = 223\n",
    "\n",
    "parstep = (parmax-parmin)/parnum\n",
    "perstep = (permax-permin)/pernum"
   ]
  },
  {
   "cell_type": "code",
   "execution_count": 13,
   "metadata": {},
   "outputs": [],
   "source": [
    "# Sample points and inpterpolation targets\n",
    "\n",
    "pointse2 = []\n",
    "for i in np.arange(entries_e2):\n",
    "    pointse2.append([e2orb1data['Ppar'][i], e2orb1data['Pper'][i]])\n",
    "    \n",
    "pointse2 = np.array(pointse2)\n",
    "\n",
    "targetse2 = []\n",
    "\n",
    "for i in np.arange(parnum+1):\n",
    "    for j in np.arange(pernum+1):\n",
    "        targetse2.append([parmin + i*parstep, permin + j*perstep])\n",
    "\n",
    "targetse2 = np.array(targetse2)"
   ]
  },
  {
   "cell_type": "code",
   "execution_count": 14,
   "metadata": {},
   "outputs": [],
   "source": [
    "# Calculate amplitudes from Real and Imaginary components\n",
    "e2orb1reals = e2orb1data['Mre'].tolist()\n",
    "e2orb1ims = e2orb1data['Mim'].tolist()\n",
    "\n",
    "e2orb2reals = e2orb2data['Mre'].tolist()\n",
    "e2orb2ims = e2orb2data['Mim'].tolist()\n",
    "\n",
    "e2orb1comp = np.empty_like(e2orb1reals, dtype = np.complex128)\n",
    "e2orb2comp = np.empty_like(e2orb1reals, dtype = np.complex128)\n",
    "\n",
    "for i in np.arange(e2orb1comp.size):\n",
    "    e2orb1comp[i] = complex(e2orb1reals[i], e2orb1ims[i])\n",
    "    e2orb2comp[i] = complex(e2orb2reals[i], e2orb2ims[i])"
   ]
  },
  {
   "cell_type": "code",
   "execution_count": 15,
   "metadata": {},
   "outputs": [],
   "source": [
    "e2comp = e2orb1comp + e2orb2comp\n",
    "e2abs = np.abs(e2comp)**2"
   ]
  },
  {
   "cell_type": "code",
   "execution_count": 16,
   "metadata": {},
   "outputs": [],
   "source": [
    "interpe2 = scipy.interpolate.griddata(points=pointse2, values=e2abs, xi=targetse2, method='linear')"
   ]
  },
  {
   "cell_type": "code",
   "execution_count": 34,
   "metadata": {},
   "outputs": [],
   "source": [
    "# List-Array monkey bussiness\n",
    "interpArraye2 = np.empty_like(interpe2, dtype = np.ndarray)\n",
    "\n",
    "for i in np.arange((parnum+1)*(pernum+1)):\n",
    "    elem = np.append(targetse2[i], interpe2[i])\n",
    "    interpArraye2[i] = elem\n",
    "    \n",
    "interpArraye2 = interpArraye2.tolist()\n",
    "\n",
    "for i in np.arange(len(interpArraye2)):\n",
    "    interpArraye2[i] = interpArraye2[i].tolist()\n",
    "    \n",
    "interpArraye2 = np.array(interpArraye2)\n",
    "transe2 = np.transpose(interpArraye2)"
   ]
  },
  {
   "cell_type": "code",
   "execution_count": 35,
   "metadata": {},
   "outputs": [
    {
     "data": {
      "image/png": "[encoded data removed]",
      "text/plain": [
       "<Figure size 432x288 with 1 Axes>"
      ]
     },
     "metadata": {
      "needs_background": "light"
     },
     "output_type": "display_data"
    }
   ],
   "source": [
    "fig = plt.figure()\n",
    "ax = fig.gca(projection='3d')\n",
    "\n",
    "ax.plot(transe2[0],transe2[1],transe2[2]);\n",
    "plt.xlabel('ppar');\n",
    "plt.ylabel('pper');"
   ]
  },
  {
   "cell_type": "code",
   "execution_count": 36,
   "metadata": {},
   "outputs": [],
   "source": [
    "# Integrate perpendicular components\n",
    "pparAmpse2 = []\n",
    "\n",
    "for i in np.arange(parnum+1):\n",
    "    temp = 0\n",
    "    for j in np.arange(pernum+1):\n",
    "        temp += interpArraye2[i*(pernum+1) + j, 2]*perstep\n",
    "    \n",
    "    pparAmpse2.append([interpArraye2[i*(pernum+1),0], temp])\n",
    "\n",
    "pparAmpse2 = np.array(pparAmpse2)"
   ]
  },
  {
   "cell_type": "code",
   "execution_count": 37,
   "metadata": {},
   "outputs": [
    {
     "data": {
      "text/plain": [
       "[<matplotlib.lines.Line2D at 0x7f1e6b394a90>]"
      ]
     },
     "execution_count": 37,
     "metadata": {},
     "output_type": "execute_result"
    },
    {
     "data": {
      "image/png": "[encoded data removed]",
      "text/plain": [
       "<Figure size 432x288 with 1 Axes>"
      ]
     },
     "metadata": {
      "needs_background": "light"
     },
     "output_type": "display_data"
    }
   ],
   "source": [
    "plt.plot(np.transpose(pparAmpse2)[0], np.transpose(pparAmpse2)[1])"
   ]
  },
  {
   "cell_type": "code",
   "execution_count": 38,
   "metadata": {},
   "outputs": [],
   "source": [
    "# Construct grid of total amplitudes as a function of ppar1 and ppar2\n",
    "ampGrid = np.empty((pparAmps.shape[0], pparAmpse2.shape[0]), dtype = np.ndarray)\n",
    "\n",
    "for par1 in np.arange(pparAmps.shape[0]):\n",
    "    for par2 in np.arange(pparAmpse2.shape[0]):\n",
    "        ampGrid[par1, par2] = np.array([pparAmps[par1,0], pparAmpse2[par2,0], pparAmps[par1,1]*pparAmpse2[par2,1]])"
   ]
  },
  {
   "cell_type": "code",
   "execution_count": 39,
   "metadata": {},
   "outputs": [],
   "source": [
    "listg = ampGrid.tolist()\n",
    "\n",
    "for i in np.arange(len(listg)):\n",
    "    for j in np.arange(len(listg[0])):\n",
    "        listg[i][j] = listg[i][j].tolist()\n",
    "        \n",
    "grid = np.array(listg)\n",
    "\n",
    "finalAmps = grid[0]\n",
    "\n",
    "for i in np.arange(grid.shape[0]):\n",
    "    if(i != 0):\n",
    "        finalAmps = np.append(finalAmps, grid[i], axis=0)"
   ]
  },
  {
   "cell_type": "code",
   "execution_count": 40,
   "metadata": {},
   "outputs": [
    {
     "data": {
      "text/plain": [
       "array([[-4.50000000e+000, -4.50000000e+000,  1.50745004e-158],\n",
       "       [-4.50000000e+000, -4.48000000e+000,  3.82132433e-157],\n",
       "       [-4.50000000e+000, -4.46000000e+000,  1.74692880e-155],\n",
       "       ...,\n",
       "       [ 4.50000000e+000,  4.46000000e+000,  4.94816640e-172],\n",
       "       [ 4.50000000e+000,  4.48000000e+000,  1.12040166e-173],\n",
       "       [ 4.50000000e+000,  4.50000000e+000,  2.43214894e-175]])"
      ]
     },
     "execution_count": 40,
     "metadata": {},
     "output_type": "execute_result"
    }
   ],
   "source": [
    "finalAmps"
   ]
  },
  {
   "cell_type": "code",
   "execution_count": 41,
   "metadata": {},
   "outputs": [
    {
     "data": {
      "image/png": "[encoded data removed]",
      "text/plain": [
       "<Figure size 432x288 with 1 Axes>"
      ]
     },
     "metadata": {
      "needs_background": "light"
     },
     "output_type": "display_data"
    }
   ],
   "source": [
    "p1 = np.transpose(finalAmps)[0]\n",
    "p2 = np.transpose(finalAmps)[1]\n",
    "val = np.transpose(finalAmps)[2]\n",
    "\n",
    "fig = plt.figure()\n",
    "ax = fig.gca(projection='3d')\n",
    "\n",
    "ax.plot(p1,p2,val);\n",
    "plt.xlabel('ppar');\n",
    "plt.ylabel('pper');"
   ]
  },
  {
   "cell_type": "code",
   "execution_count": 42,
   "metadata": {},
   "outputs": [],
   "source": [
    "# Save result to text file to plot with Mathematica\n",
    "# Puts file in parent folder of notebook\n",
    "\n",
    "np.savetxt('HiRes_Frank_orb1_5au.txt', finalAmps)"
   ]
  },
  {
   "cell_type": "code",
   "execution_count": 43,
   "metadata": {},
   "outputs": [],
   "source": [
    "#Symmetrising\n",
    "\n",
    "sym = np.copy(finalAmps)\n",
    "\n",
    "for i in np.arange(parnum+1):\n",
    "    for j in np.arange(parnum+1):\n",
    "        sym[i*(parnum+1)+j][2] = finalAmps[i*(parnum+1)+j][2] + finalAmps[j*(parnum+1)+i][2]"
   ]
  },
  {
   "cell_type": "code",
   "execution_count": 44,
   "metadata": {},
   "outputs": [
    {
     "data": {
      "image/png": "[encoded data removed]",
      "text/plain": [
       "<Figure size 432x288 with 1 Axes>"
      ]
     },
     "metadata": {
      "needs_background": "light"
     },
     "output_type": "display_data"
    }
   ],
   "source": [
    "p1 = np.transpose(sym)[0]\n",
    "p2 = np.transpose(sym)[1]\n",
    "val = np.transpose(sym)[2]\n",
    "\n",
    "fig = plt.figure()\n",
    "ax = fig.gca(projection='3d')\n",
    "\n",
    "ax.plot(p1,p2,val);\n",
    "plt.xlabel('ppar');\n",
    "plt.ylabel('pper');"
   ]
  },
  {
   "cell_type": "code",
   "execution_count": 45,
   "metadata": {},
   "outputs": [],
   "source": [
    "np.savetxt('HiRes_Frank_orb1_sym_5au.txt', sym)"
   ]
  },
  {
   "cell_type": "code",
   "execution_count": null,
   "metadata": {},
   "outputs": [],
   "source": []
  }
 ],
 "metadata": {
  "kernelspec": {
   "display_name": "Python 3",
   "language": "python",
   "name": "python3"
  },
  "language_info": {
   "codemirror_mode": {
    "name": "ipython",
    "version": 3
   },
   "file_extension": ".py",
   "mimetype": "text/x-python",
   "name": "python",
   "nbconvert_exporter": "python",
   "pygments_lexer": "ipython3",
   "version": "3.7.6"
  }
 },
 "nbformat": 4,
 "nbformat_minor": 4
}
